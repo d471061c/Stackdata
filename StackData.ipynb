{
 "cells": [
  {
   "cell_type": "markdown",
   "metadata": {},
   "source": [
    "# Stack Data"
   ]
  },
  {
   "cell_type": "code",
   "execution_count": 2,
   "metadata": {},
   "outputs": [],
   "source": [
    "import xml.etree.ElementTree as ET\n",
    "import sys, os\n",
    "import pandas as pd\n",
    "import numpy as np\n",
    "\n",
    "def xml2pd(xml_file):\n",
    "    ''' Load xml file as Pandas DataFrame'''\n",
    "    tree = ET.parse(xml_file)\n",
    "    root = tree.getroot()\n",
    "    \n",
    "    cols = root[0].attrib.keys()\n",
    "    rows = [child.attrib for child in root]\n",
    "    return pd.DataFrame(rows, columns = cols)"
   ]
  },
  {
   "cell_type": "markdown",
   "metadata": {},
   "source": [
    "## NLP"
   ]
  },
  {
   "cell_type": "code",
   "execution_count": 5,
   "metadata": {},
   "outputs": [],
   "source": [
    "import nltk\n",
    "from nltk.tokenize import sent_tokenize, word_tokenize, RegexpTokenizer\n",
    "from nltk.corpus import stopwords\n",
    "from nltk.stem import WordNetLemmatizer\n",
    "from nltk.stem.porter import PorterStemmer\n",
    "from bs4 import BeautifulSoup\n",
    "import re, string"
   ]
  },
  {
   "cell_type": "code",
   "execution_count": 25,
   "metadata": {},
   "outputs": [],
   "source": [
    "stopWords = set(stopwords.words('english'))\n",
    "lemmatizer = WordNetLemmatizer()\n",
    "\n",
    "def removeHTML(text):\n",
    "    ''' Remove HTML from given text '''\n",
    "    soup = BeautifulSoup(text, 'lxml')\n",
    "    return soup.get_text()\n",
    "\n",
    "def removeURLs(text):\n",
    "    ''' Remove URLs from given text '''\n",
    "    return re.sub(r'''(?i)\\b((?:https?://|www\\d{0,3}[.]|[a-z0-9.\\-]+[.][a-z]{2,4}/)(?:[^\\s()<>]+|\\(([^\\s()<>]+|(\\([^\\s()<>]+\\)))*\\))+(?:\\(([^\\s()<>]+|(\\([^\\s()<>]+\\)))*\\)|[^\\s`!()\\[\\]{};:'\".,<>?«»“”‘’]))''', \" \", text)\n",
    "\n",
    "def removePunctuation(text):\n",
    "    ''' Remove punctuations from given text'''\n",
    "    return \"\".join([c for c in text if c not in string.punctuation])\n",
    "\n",
    "def removeStopWords(text):\n",
    "    ''' Remove stopwords from given text '''\n",
    "    return [word for word in text if word not in stopWords]\n",
    "\n",
    "def lemmatizeText(text):\n",
    "    ''' Lemmatize the given text '''\n",
    "    return [lemmatizer.lemmatize(i) for i in text]"
   ]
  },
  {
   "cell_type": "code",
   "execution_count": 6,
   "metadata": {},
   "outputs": [],
   "source": [
    "posts = xml2pd('Posts.xml')"
   ]
  },
  {
   "cell_type": "code",
   "execution_count": 16,
   "metadata": {},
   "outputs": [
    {
     "data": {
      "text/plain": [
       "'pIve heard that the quality of a monte carlo ray tracer based on path tracing algorithms is much more realistic than a distributed stochastic engine I try to understand why but Im just at the beginning p\\n\\npIn order to dive into this topic and understand the basics can someone point me into the right direction What part of the algorithm leads into a more realistic render result p\\n'"
      ]
     },
     "execution_count": 16,
     "metadata": {},
     "output_type": "execute_result"
    }
   ],
   "source": [
    "removePunctuation(posts['Body'][5])"
   ]
  },
  {
   "cell_type": "markdown",
   "metadata": {},
   "source": [
    "## Analysis with tokens"
   ]
  },
  {
   "cell_type": "code",
   "execution_count": 19,
   "metadata": {},
   "outputs": [
    {
     "data": {
      "text/html": [
       "<div>\n",
       "<style scoped>\n",
       "    .dataframe tbody tr th:only-of-type {\n",
       "        vertical-align: middle;\n",
       "    }\n",
       "\n",
       "    .dataframe tbody tr th {\n",
       "        vertical-align: top;\n",
       "    }\n",
       "\n",
       "    .dataframe thead th {\n",
       "        text-align: right;\n",
       "    }\n",
       "</style>\n",
       "<table border=\"1\" class=\"dataframe\">\n",
       "  <thead>\n",
       "    <tr style=\"text-align: right;\">\n",
       "      <th></th>\n",
       "      <th>body</th>\n",
       "      <th>points</th>\n",
       "      <th>postType</th>\n",
       "    </tr>\n",
       "  </thead>\n",
       "  <tbody>\n",
       "    <tr>\n",
       "      <th>0</th>\n",
       "      <td>[p, i, saw, a, a, href, https, www, youtube, c...</td>\n",
       "      <td>8</td>\n",
       "      <td>1</td>\n",
       "    </tr>\n",
       "    <tr>\n",
       "      <th>1</th>\n",
       "      <td>[p, the, convention, in, graphics, is, that, p...</td>\n",
       "      <td>11</td>\n",
       "      <td>1</td>\n",
       "    </tr>\n",
       "    <tr>\n",
       "      <th>2</th>\n",
       "      <td>[p, sometimes, i, use, vector, graphics, simpl...</td>\n",
       "      <td>20</td>\n",
       "      <td>1</td>\n",
       "    </tr>\n",
       "    <tr>\n",
       "      <th>3</th>\n",
       "      <td>[p, i, just, implemented, some, interpolated, ...</td>\n",
       "      <td>11</td>\n",
       "      <td>1</td>\n",
       "    </tr>\n",
       "    <tr>\n",
       "      <th>4</th>\n",
       "      <td>[p, i, have, an, opengl, application, which, u...</td>\n",
       "      <td>11</td>\n",
       "      <td>1</td>\n",
       "    </tr>\n",
       "    <tr>\n",
       "      <th>5</th>\n",
       "      <td>[p, i, ve, heard, that, the, quality, of, a, m...</td>\n",
       "      <td>30</td>\n",
       "      <td>1</td>\n",
       "    </tr>\n",
       "    <tr>\n",
       "      <th>6</th>\n",
       "      <td>[p, there, might, be, p, p, less, technical, a...</td>\n",
       "      <td>8</td>\n",
       "      <td>2</td>\n",
       "    </tr>\n",
       "    <tr>\n",
       "      <th>7</th>\n",
       "      <td>[p, a, few, years, ago, i, tried, to, implemen...</td>\n",
       "      <td>17</td>\n",
       "      <td>1</td>\n",
       "    </tr>\n",
       "    <tr>\n",
       "      <th>8</th>\n",
       "      <td>[p, as, thebuzzsaw, said, it, does, depend, on...</td>\n",
       "      <td>15</td>\n",
       "      <td>2</td>\n",
       "    </tr>\n",
       "    <tr>\n",
       "      <th>9</th>\n",
       "      <td>[p, updating, an, area, of, memory, in, the, g...</td>\n",
       "      <td>11</td>\n",
       "      <td>2</td>\n",
       "    </tr>\n",
       "    <tr>\n",
       "      <th>10</th>\n",
       "      <td>[p, wikipedia, a, href, https, en, wikipedia, ...</td>\n",
       "      <td>23</td>\n",
       "      <td>1</td>\n",
       "    </tr>\n",
       "    <tr>\n",
       "      <th>11</th>\n",
       "      <td>[p, in, strong, distributed, ray, tracing, str...</td>\n",
       "      <td>5</td>\n",
       "      <td>2</td>\n",
       "    </tr>\n",
       "    <tr>\n",
       "      <th>12</th>\n",
       "      <td>[p, no, there, is, not, really, a, way, to, do...</td>\n",
       "      <td>15</td>\n",
       "      <td>2</td>\n",
       "    </tr>\n",
       "    <tr>\n",
       "      <th>13</th>\n",
       "      <td>[p, in, 1978, edwin, catmull, and, jim, clark,...</td>\n",
       "      <td>17</td>\n",
       "      <td>1</td>\n",
       "    </tr>\n",
       "    <tr>\n",
       "      <th>14</th>\n",
       "      <td>[blockquote, p, a, stencil, buffer, contains, ...</td>\n",
       "      <td>6</td>\n",
       "      <td>2</td>\n",
       "    </tr>\n",
       "    <tr>\n",
       "      <th>15</th>\n",
       "      <td>[p, the, term, distributed, ray, tracing, was,...</td>\n",
       "      <td>31</td>\n",
       "      <td>2</td>\n",
       "    </tr>\n",
       "    <tr>\n",
       "      <th>16</th>\n",
       "      <td>[p, a, href, https, en, wikipedia, org, wiki, ...</td>\n",
       "      <td>29</td>\n",
       "      <td>1</td>\n",
       "    </tr>\n",
       "    <tr>\n",
       "      <th>17</th>\n",
       "      <td>[p, the, stencil, buffer, is, an, unsigned, in...</td>\n",
       "      <td>11</td>\n",
       "      <td>2</td>\n",
       "    </tr>\n",
       "    <tr>\n",
       "      <th>18</th>\n",
       "      <td>[p, the, stencil, buffer, definition, by, wiki...</td>\n",
       "      <td>27</td>\n",
       "      <td>2</td>\n",
       "    </tr>\n",
       "    <tr>\n",
       "      <th>19</th>\n",
       "      <td>[p, there, are, a, few, ways, of, rendering, v...</td>\n",
       "      <td>6</td>\n",
       "      <td>2</td>\n",
       "    </tr>\n",
       "  </tbody>\n",
       "</table>\n",
       "</div>"
      ],
      "text/plain": [
       "                                                 body points postType\n",
       "0   [p, i, saw, a, a, href, https, www, youtube, c...      8        1\n",
       "1   [p, the, convention, in, graphics, is, that, p...     11        1\n",
       "2   [p, sometimes, i, use, vector, graphics, simpl...     20        1\n",
       "3   [p, i, just, implemented, some, interpolated, ...     11        1\n",
       "4   [p, i, have, an, opengl, application, which, u...     11        1\n",
       "5   [p, i, ve, heard, that, the, quality, of, a, m...     30        1\n",
       "6   [p, there, might, be, p, p, less, technical, a...      8        2\n",
       "7   [p, a, few, years, ago, i, tried, to, implemen...     17        1\n",
       "8   [p, as, thebuzzsaw, said, it, does, depend, on...     15        2\n",
       "9   [p, updating, an, area, of, memory, in, the, g...     11        2\n",
       "10  [p, wikipedia, a, href, https, en, wikipedia, ...     23        1\n",
       "11  [p, in, strong, distributed, ray, tracing, str...      5        2\n",
       "12  [p, no, there, is, not, really, a, way, to, do...     15        2\n",
       "13  [p, in, 1978, edwin, catmull, and, jim, clark,...     17        1\n",
       "14  [blockquote, p, a, stencil, buffer, contains, ...      6        2\n",
       "15  [p, the, term, distributed, ray, tracing, was,...     31        2\n",
       "16  [p, a, href, https, en, wikipedia, org, wiki, ...     29        1\n",
       "17  [p, the, stencil, buffer, is, an, unsigned, in...     11        2\n",
       "18  [p, the, stencil, buffer, definition, by, wiki...     27        2\n",
       "19  [p, there, are, a, few, ways, of, rendering, v...      6        2"
      ]
     },
     "execution_count": 19,
     "metadata": {},
     "output_type": "execute_result"
    }
   ],
   "source": [
    "dfmini = pd.DataFrame(columns=[\"body\", \"points\", \"postType\"])\n",
    "tokenizer = RegexpTokenizer(r'\\w+')\n",
    "\n",
    "dfmini[\"body\"] = posts['Body'].apply(lambda x: tokenizer.tokenize(x.lower()))\n",
    "dfmini[\"points\"] = posts['Score']\n",
    "dfmini[\"postType\"] = posts[\"PostTypeId\"]\n",
    "\n",
    "# PostTypeId 1 = Question, 2 = Answer\n",
    "dfmini.head(20)"
   ]
  },
  {
   "cell_type": "markdown",
   "metadata": {},
   "source": [
    "## StopWord Removal"
   ]
  },
  {
   "cell_type": "code",
   "execution_count": 24,
   "metadata": {},
   "outputs": [
    {
     "data": {
      "text/plain": [
       "0     [p, saw, href, https, www, youtube, com, watch...\n",
       "1     [p, convention, graphics, performing, fewer, s...\n",
       "2     [p, sometimes, use, vector, graphics, simply, ...\n",
       "3     [p, implemented, interpolated, texture, sampli...\n",
       "4     [p, opengl, application, uses, stencil, tests,...\n",
       "5     [p, heard, quality, monte, carlo, ray, tracer,...\n",
       "6     [p, might, p, p, less, technical, answer, p, p...\n",
       "7     [p, years, ago, tried, implement, href, http, ...\n",
       "8     [p, thebuzzsaw, said, depend, lots, things, in...\n",
       "9     [p, updating, area, memory, graphics, device, ...\n",
       "10    [p, wikipedia, href, https, en, wikipedia, org...\n",
       "11    [p, strong, distributed, ray, tracing, strong,...\n",
       "12    [p, really, way, p, p, geometry, shader, invoc...\n",
       "13    [p, 1978, edwin, catmull, jim, clark, defined,...\n",
       "14    [blockquote, p, stencil, buffer, contains, per...\n",
       "15    [p, term, distributed, ray, tracing, originall...\n",
       "16    [p, href, https, en, wikipedia, org, wiki, per...\n",
       "17    [p, stencil, buffer, unsigned, integer, buffer...\n",
       "18    [p, stencil, buffer, definition, wikipedia, in...\n",
       "19    [p, ways, rendering, vector, graphics, thebuzz...\n",
       "Name: body, dtype: object"
      ]
     },
     "execution_count": 24,
     "metadata": {},
     "output_type": "execute_result"
    }
   ],
   "source": [
    "dfmini['body'] = dfmini['body'].apply(lambda x: removeStopWords(x))\n",
    "dfmini['body'].head(20)"
   ]
  },
  {
   "cell_type": "markdown",
   "metadata": {},
   "source": [
    "## Lemmatize"
   ]
  },
  {
   "cell_type": "code",
   "execution_count": 31,
   "metadata": {},
   "outputs": [],
   "source": [
    "dfmini['body'] = dfmini['body'].apply(lambda x: lemmatizeText(x))"
   ]
  },
  {
   "cell_type": "code",
   "execution_count": 32,
   "metadata": {},
   "outputs": [
    {
     "data": {
      "text/plain": [
       "0    [p, saw, href, http, www, youtube, com, watch,...\n",
       "1    [p, convention, graphic, performing, fewer, st...\n",
       "2    [p, sometimes, use, vector, graphic, simply, l...\n",
       "3    [p, implemented, interpolated, texture, sampli...\n",
       "4    [p, opengl, application, us, stencil, test, qu...\n",
       "Name: body, dtype: object"
      ]
     },
     "execution_count": 32,
     "metadata": {},
     "output_type": "execute_result"
    }
   ],
   "source": [
    "dfmini['body'].head()"
   ]
  },
  {
   "cell_type": "markdown",
   "metadata": {},
   "source": [
    "## TF-IDF"
   ]
  },
  {
   "cell_type": "code",
   "execution_count": 43,
   "metadata": {},
   "outputs": [],
   "source": [
    "from sklearn.feature_extraction.text import TfidfVectorizer\n",
    "\n",
    "data = list(set(posts['Body']))\n",
    "for idx in range(len(data)):\n",
    "    data[idx] = removeHTML(data[idx])\n",
    "\n",
    "tfid_vectorizer = TfidfVectorizer(stopwords)\n",
    "tfid_vectorizer.fit_transform(data)\n",
    "features = tfid_vectorizer.get_feature_names()"
   ]
  },
  {
   "cell_type": "code",
   "execution_count": 46,
   "metadata": {},
   "outputs": [
    {
     "data": {
      "text/plain": [
       "['00',\n",
       " '000',\n",
       " '0000',\n",
       " '00000',\n",
       " '000000',\n",
       " '000000000',\n",
       " '00000000001',\n",
       " '0000001192092896',\n",
       " '0000001f',\n",
       " '000001']"
      ]
     },
     "execution_count": 46,
     "metadata": {},
     "output_type": "execute_result"
    }
   ],
   "source": [
    "features[:10]"
   ]
  },
  {
   "cell_type": "code",
   "execution_count": null,
   "metadata": {},
   "outputs": [],
   "source": []
  }
 ],
 "metadata": {
  "kernelspec": {
   "display_name": "Python 3",
   "language": "python",
   "name": "python3"
  },
  "language_info": {
   "codemirror_mode": {
    "name": "ipython",
    "version": 3
   },
   "file_extension": ".py",
   "mimetype": "text/x-python",
   "name": "python",
   "nbconvert_exporter": "python",
   "pygments_lexer": "ipython3",
   "version": "3.7.3"
  }
 },
 "nbformat": 4,
 "nbformat_minor": 2
}
