{
 "cells": [
  {
   "cell_type": "markdown",
   "metadata": {},
   "source": [
    "# Stack Data"
   ]
  },
  {
   "cell_type": "code",
   "execution_count": 183,
   "metadata": {},
   "outputs": [],
   "source": [
    "import xml.etree.ElementTree as ET\n",
    "import sys, os\n",
    "import pandas as pd\n",
    "import numpy as np\n",
    "\n",
    "def xml2pd(xml_file):\n",
    "    ''' Load xml file as Pandas DataFrame'''\n",
    "    tree = ET.parse(xml_file)\n",
    "    root = tree.getroot()\n",
    "    \n",
    "    cols = root[0].attrib.keys()\n",
    "    rows = [child.attrib for child in root]\n",
    "    return pd.DataFrame(rows, columns = cols)"
   ]
  },
  {
   "cell_type": "markdown",
   "metadata": {},
   "source": [
    "## NLP"
   ]
  },
  {
   "cell_type": "code",
   "execution_count": 184,
   "metadata": {},
   "outputs": [],
   "source": [
    "import nltk\n",
    "from nltk.tokenize import sent_tokenize, word_tokenize, RegexpTokenizer\n",
    "from nltk.corpus import stopwords\n",
    "from nltk.stem import WordNetLemmatizer\n",
    "from nltk.stem.snowball import EnglishStemmer\n",
    "from nltk.stem.porter import PorterStemmer\n",
    "from bs4 import BeautifulSoup\n",
    "import re, string, operator"
   ]
  },
  {
   "cell_type": "code",
   "execution_count": 185,
   "metadata": {},
   "outputs": [],
   "source": [
    "stopWords = set(stopwords.words('english'))\n",
    "lemmatizer = WordNetLemmatizer()\n",
    "\n",
    "def removeHTML(text):\n",
    "    ''' Remove HTML from given text '''\n",
    "    soup = BeautifulSoup(text, 'lxml')\n",
    "    return soup.get_text()\n",
    "\n",
    "def removeURLs(text):\n",
    "    ''' Remove URLs from given text '''\n",
    "    return re.sub(r'''(?i)\\b((?:https?://|www\\d{0,3}[.]|[a-z0-9.\\-]+[.][a-z]{2,4}/)(?:[^\\s()<>]+|\\(([^\\s()<>]+|(\\([^\\s()<>]+\\)))*\\))+(?:\\(([^\\s()<>]+|(\\([^\\s()<>]+\\)))*\\)|[^\\s`!()\\[\\]{};:'\".,<>?«»“”‘’]))''', \" \", text)\n",
    "\n",
    "def removePunctuation(text):\n",
    "    ''' Remove punctuations from given text'''\n",
    "    return \"\".join([c for c in text if c not in string.punctuation])\n",
    "\n",
    "def removeStopWords(text):\n",
    "    ''' Remove stopwords from given text '''\n",
    "    return \"\".join([word for word in text if word not in stopWords])\n",
    "\n",
    "def removeTags(text):\n",
    "    ''' Remove code and pre tags from text '''\n",
    "    soup = BeautifulSoup(text, 'lxml')\n",
    "    for element in soup.find_all(\"code\", \"pre\"): \n",
    "        element.decompose()\n",
    "    return soup.get_text()\n",
    "\n",
    "def lemmatizeText(text):\n",
    "    ''' Lemmatize the given text '''\n",
    "    return [lemmatizer.lemmatize(i) for i in text]"
   ]
  },
  {
   "cell_type": "code",
   "execution_count": 186,
   "metadata": {},
   "outputs": [],
   "source": [
    "posts = xml2pd('Posts.xml')"
   ]
  },
  {
   "cell_type": "code",
   "execution_count": 187,
   "metadata": {},
   "outputs": [
    {
     "data": {
      "text/plain": [
       "'pIve heard that the quality of a monte carlo ray tracer based on path tracing algorithms is much more realistic than a distributed stochastic engine I try to understand why but Im just at the beginning p\\n\\npIn order to dive into this topic and understand the basics can someone point me into the right direction What part of the algorithm leads into a more realistic render result p\\n'"
      ]
     },
     "execution_count": 187,
     "metadata": {},
     "output_type": "execute_result"
    }
   ],
   "source": [
    "removePunctuation(posts['Body'][5])"
   ]
  },
  {
   "cell_type": "markdown",
   "metadata": {},
   "source": [
    "## Analysis with tokens"
   ]
  },
  {
   "cell_type": "code",
   "execution_count": 188,
   "metadata": {},
   "outputs": [
    {
     "data": {
      "text/html": [
       "<div>\n",
       "<style scoped>\n",
       "    .dataframe tbody tr th:only-of-type {\n",
       "        vertical-align: middle;\n",
       "    }\n",
       "\n",
       "    .dataframe tbody tr th {\n",
       "        vertical-align: top;\n",
       "    }\n",
       "\n",
       "    .dataframe thead th {\n",
       "        text-align: right;\n",
       "    }\n",
       "</style>\n",
       "<table border=\"1\" class=\"dataframe\">\n",
       "  <thead>\n",
       "    <tr style=\"text-align: right;\">\n",
       "      <th></th>\n",
       "      <th>body</th>\n",
       "      <th>points</th>\n",
       "      <th>postType</th>\n",
       "    </tr>\n",
       "  </thead>\n",
       "  <tbody>\n",
       "    <tr>\n",
       "      <th>0</th>\n",
       "      <td>[p, i, saw, a, a, href, https, www, youtube, c...</td>\n",
       "      <td>8</td>\n",
       "      <td>1</td>\n",
       "    </tr>\n",
       "    <tr>\n",
       "      <th>1</th>\n",
       "      <td>[p, the, convention, in, graphics, is, that, p...</td>\n",
       "      <td>11</td>\n",
       "      <td>1</td>\n",
       "    </tr>\n",
       "    <tr>\n",
       "      <th>2</th>\n",
       "      <td>[p, sometimes, i, use, vector, graphics, simpl...</td>\n",
       "      <td>20</td>\n",
       "      <td>1</td>\n",
       "    </tr>\n",
       "    <tr>\n",
       "      <th>3</th>\n",
       "      <td>[p, i, just, implemented, some, interpolated, ...</td>\n",
       "      <td>11</td>\n",
       "      <td>1</td>\n",
       "    </tr>\n",
       "    <tr>\n",
       "      <th>4</th>\n",
       "      <td>[p, i, have, an, opengl, application, which, u...</td>\n",
       "      <td>11</td>\n",
       "      <td>1</td>\n",
       "    </tr>\n",
       "    <tr>\n",
       "      <th>5</th>\n",
       "      <td>[p, i, ve, heard, that, the, quality, of, a, m...</td>\n",
       "      <td>30</td>\n",
       "      <td>1</td>\n",
       "    </tr>\n",
       "    <tr>\n",
       "      <th>6</th>\n",
       "      <td>[p, there, might, be, p, p, less, technical, a...</td>\n",
       "      <td>8</td>\n",
       "      <td>2</td>\n",
       "    </tr>\n",
       "    <tr>\n",
       "      <th>7</th>\n",
       "      <td>[p, a, few, years, ago, i, tried, to, implemen...</td>\n",
       "      <td>17</td>\n",
       "      <td>1</td>\n",
       "    </tr>\n",
       "    <tr>\n",
       "      <th>8</th>\n",
       "      <td>[p, as, thebuzzsaw, said, it, does, depend, on...</td>\n",
       "      <td>15</td>\n",
       "      <td>2</td>\n",
       "    </tr>\n",
       "    <tr>\n",
       "      <th>9</th>\n",
       "      <td>[p, updating, an, area, of, memory, in, the, g...</td>\n",
       "      <td>11</td>\n",
       "      <td>2</td>\n",
       "    </tr>\n",
       "    <tr>\n",
       "      <th>10</th>\n",
       "      <td>[p, wikipedia, a, href, https, en, wikipedia, ...</td>\n",
       "      <td>23</td>\n",
       "      <td>1</td>\n",
       "    </tr>\n",
       "    <tr>\n",
       "      <th>11</th>\n",
       "      <td>[p, in, strong, distributed, ray, tracing, str...</td>\n",
       "      <td>5</td>\n",
       "      <td>2</td>\n",
       "    </tr>\n",
       "    <tr>\n",
       "      <th>12</th>\n",
       "      <td>[p, no, there, is, not, really, a, way, to, do...</td>\n",
       "      <td>15</td>\n",
       "      <td>2</td>\n",
       "    </tr>\n",
       "    <tr>\n",
       "      <th>13</th>\n",
       "      <td>[p, in, 1978, edwin, catmull, and, jim, clark,...</td>\n",
       "      <td>17</td>\n",
       "      <td>1</td>\n",
       "    </tr>\n",
       "    <tr>\n",
       "      <th>14</th>\n",
       "      <td>[blockquote, p, a, stencil, buffer, contains, ...</td>\n",
       "      <td>6</td>\n",
       "      <td>2</td>\n",
       "    </tr>\n",
       "    <tr>\n",
       "      <th>15</th>\n",
       "      <td>[p, the, term, distributed, ray, tracing, was,...</td>\n",
       "      <td>31</td>\n",
       "      <td>2</td>\n",
       "    </tr>\n",
       "    <tr>\n",
       "      <th>16</th>\n",
       "      <td>[p, a, href, https, en, wikipedia, org, wiki, ...</td>\n",
       "      <td>29</td>\n",
       "      <td>1</td>\n",
       "    </tr>\n",
       "    <tr>\n",
       "      <th>17</th>\n",
       "      <td>[p, the, stencil, buffer, is, an, unsigned, in...</td>\n",
       "      <td>11</td>\n",
       "      <td>2</td>\n",
       "    </tr>\n",
       "    <tr>\n",
       "      <th>18</th>\n",
       "      <td>[p, the, stencil, buffer, definition, by, wiki...</td>\n",
       "      <td>27</td>\n",
       "      <td>2</td>\n",
       "    </tr>\n",
       "    <tr>\n",
       "      <th>19</th>\n",
       "      <td>[p, there, are, a, few, ways, of, rendering, v...</td>\n",
       "      <td>6</td>\n",
       "      <td>2</td>\n",
       "    </tr>\n",
       "  </tbody>\n",
       "</table>\n",
       "</div>"
      ],
      "text/plain": [
       "                                                 body points postType\n",
       "0   [p, i, saw, a, a, href, https, www, youtube, c...      8        1\n",
       "1   [p, the, convention, in, graphics, is, that, p...     11        1\n",
       "2   [p, sometimes, i, use, vector, graphics, simpl...     20        1\n",
       "3   [p, i, just, implemented, some, interpolated, ...     11        1\n",
       "4   [p, i, have, an, opengl, application, which, u...     11        1\n",
       "5   [p, i, ve, heard, that, the, quality, of, a, m...     30        1\n",
       "6   [p, there, might, be, p, p, less, technical, a...      8        2\n",
       "7   [p, a, few, years, ago, i, tried, to, implemen...     17        1\n",
       "8   [p, as, thebuzzsaw, said, it, does, depend, on...     15        2\n",
       "9   [p, updating, an, area, of, memory, in, the, g...     11        2\n",
       "10  [p, wikipedia, a, href, https, en, wikipedia, ...     23        1\n",
       "11  [p, in, strong, distributed, ray, tracing, str...      5        2\n",
       "12  [p, no, there, is, not, really, a, way, to, do...     15        2\n",
       "13  [p, in, 1978, edwin, catmull, and, jim, clark,...     17        1\n",
       "14  [blockquote, p, a, stencil, buffer, contains, ...      6        2\n",
       "15  [p, the, term, distributed, ray, tracing, was,...     31        2\n",
       "16  [p, a, href, https, en, wikipedia, org, wiki, ...     29        1\n",
       "17  [p, the, stencil, buffer, is, an, unsigned, in...     11        2\n",
       "18  [p, the, stencil, buffer, definition, by, wiki...     27        2\n",
       "19  [p, there, are, a, few, ways, of, rendering, v...      6        2"
      ]
     },
     "execution_count": 188,
     "metadata": {},
     "output_type": "execute_result"
    }
   ],
   "source": [
    "dfmini = pd.DataFrame(columns=[\"body\", \"points\", \"postType\"])\n",
    "tokenizer = RegexpTokenizer(r'\\w+')\n",
    "\n",
    "dfmini[\"body\"] = posts['Body'].apply(lambda x: tokenizer.tokenize(x.lower()))\n",
    "dfmini[\"points\"] = posts['Score']\n",
    "dfmini[\"postType\"] = posts[\"PostTypeId\"]\n",
    "\n",
    "# PostTypeId 1 = Question, 2 = Answer\n",
    "dfmini.head(20)"
   ]
  },
  {
   "cell_type": "markdown",
   "metadata": {},
   "source": [
    "## StopWord Removal"
   ]
  },
  {
   "cell_type": "code",
   "execution_count": 211,
   "metadata": {},
   "outputs": [
    {
     "data": {
      "text/plain": [
       "0     pwhrefhpwwwuubecwchv7wcvgvgrelnreferrerveuubep...\n",
       "1     pcnvenngrphcperfrngfewerechngebeerperfrngechng...\n",
       "2     peeuevecrgrphcpllkelghlencerceeuebprergrphcppw...\n",
       "3     ppleenenerpleexureplngplng4x4nerepxellgrngener...\n",
       "4     ppenglpplcnueenclequeexenvelrenerrregulrhpeblk...\n",
       "5     pherqulnecrlrrcerbephrcnglgrhuchrelcrbuechceng...\n",
       "6     pghppleechnclnwerppbulngwebenherpplcnnhnggrphc...\n",
       "7     pergrepleenhrefhphpevelpernvcgpuge3gpuge3_ch01...\n",
       "8     phebuzzwepenlhngnclungpleennrerzegrphcvvecrgrp...\n",
       "9     pupngreergrphcevceexurebufferlkequechngngrener...\n",
       "10    pwkpehrefhpenwkpergwkencl_buffereenclbufferrbr...\n",
       "11    prngrbuerrcngrngchcllplenrrecneepreferrebrfwhe...\n",
       "12    prellwppgeerhernvcnrequrenpuprvegenere0upuprve...\n",
       "13    p1978ewnculljclrkefnerecurveubvnprcebernelhugh...\n",
       "14    blckquepenclbuffercnnperpxelnegeruecnrlpxelren...\n",
       "15    perrbuerrcngrgnllcnerberckhrefhprnrlpefrenegne...\n",
       "16    phrefhpenwkpergwkperln_neperlnneneppulrprceurl...\n",
       "17    penclbufferungnenegerbufferuull8bnwfllperpxeln...\n",
       "18    penclbufferefnnwkpeneegrefcueuchelernpleennpen...\n",
       "19    pwrenerngvecrgrphchebuzzwennnvexennrenergenerl...\n",
       "Name: body, dtype: object"
      ]
     },
     "execution_count": 211,
     "metadata": {},
     "output_type": "execute_result"
    }
   ],
   "source": [
    "dfmini['body'] = dfmini['body'].apply(lambda x: removeStopWords(x))\n",
    "dfmini['body'].head(20)"
   ]
  },
  {
   "cell_type": "markdown",
   "metadata": {},
   "source": [
    "## Lemmatize"
   ]
  },
  {
   "cell_type": "code",
   "execution_count": 190,
   "metadata": {},
   "outputs": [],
   "source": [
    "dfmini['body'] = dfmini['body'].apply(lambda x: lemmatizeText(x))"
   ]
  },
  {
   "cell_type": "code",
   "execution_count": 191,
   "metadata": {},
   "outputs": [
    {
     "data": {
      "text/plain": [
       "0    [p, s, a, w, h, r, e, f, h, t, t, p, s, w, w, ...\n",
       "1    [p, c, o, n, v, e, n, t, i, o, n, g, r, a, p, ...\n",
       "2    [p, s, o, m, e, t, i, m, e, s, u, s, e, v, e, ...\n",
       "3    [p, i, m, p, l, e, m, e, n, t, e, d, i, n, t, ...\n",
       "4    [p, o, p, e, n, g, l, a, p, p, l, i, c, a, t, ...\n",
       "Name: body, dtype: object"
      ]
     },
     "execution_count": 191,
     "metadata": {},
     "output_type": "execute_result"
    }
   ],
   "source": [
    "dfmini['body'].head()"
   ]
  },
  {
   "cell_type": "markdown",
   "metadata": {},
   "source": [
    "### Number of different words in our data set:"
   ]
  },
  {
   "cell_type": "code",
   "execution_count": 192,
   "metadata": {},
   "outputs": [
    {
     "name": "stdout",
     "output_type": "stream",
     "text": [
      "['p', 'c', 'o', 'n', 'v', 'e', 'n', 't', 'i', 'o', 'n', 'g', 'r', 'a', 'p', 'h', 'i', 'c', 's', 'p', 'e', 'r', 'f', 'o', 'r', 'm', 'i', 'n', 'g', 'f', 'e', 'w', 'e', 'r', 's', 't', 'a', 't', 'e', 'c', 'h', 'a', 'n', 'g', 'e', 's', 'b', 'e', 't', 't', 'e', 'r', 'p', 'e', 'r', 'f', 'o', 'r', 'm', 'i', 'n', 'g', 's', 't', 'a', 't', 'e', 'c', 'h', 'a', 'n', 'g', 'e', 's', 's', 'w', 'i', 't', 'c', 'h', 'i', 'n', 'g', 's', 'h', 'a', 'd', 'e', 'r', 's', 'b', 'i', 'n', 'd', 'i', 'n', 'g', 'b', 'u', 'f', 'f', 'e', 'r', 's', 'b', 'i', 'n', 'd', 'i', 'n', 'g', 't', 'e', 'x', 't', 'u', 'r', 'e', 's', 'e', 't', 'c', 't', 'e', 'x', 't', 'u', 'r', 'e', 's', 'f', 'a', 's', 't', 'e', 'r', 'r', 'e', 'n', 'd', 'e', 'r', 'm', 'a', 'n', 'y', 'p', 'o', 'l', 'y', 'g', 'o', 'n', 's', 'u', 's', 'i', 'n', 'g', 's', 'i', 'n', 'g', 'l', 'e', 'a', 't', 'l', 'a', 's', 'r', 'e', 'n', 'd', 'e', 'r', 'i', 'n', 'g', 's', 'p', 'r', 'i', 't', 'e', 's', 't', 'e', 'x', 't', 'i', 'n', 'd', 'i', 'v', 'i', 'd', 'u', 'a', 'l', 'l', 'y', 'b', 'i', 'n', 'd', 'n', 'e', 'w', 't', 'e', 'x', 't', 'u', 'r', 'e', 'p', 'o', 'l', 'y', 'g', 'o', 'n', 'p', 'p', 'h', 'o', 'l', 'd', 't', 'r', 'u', 'e', 'c', 'o', 'n', 't', 'i', 'n', 'u', 'a', 'l', 'l', 'y', 'p', 'a', 'i', 'n', 't', 'i', 'n', 'g', 't', 'e', 'x', 't', 'u', 'r', 'e', 'v', 'i', 'a', 'c', 'o', 'd', 'e', 'g', 'l', 't', 'e', 'x', 's', 'u', 'b', 'i', 'm', 'a', 'g', 'e', '2', 'd', 'c', 'o', 'd', 'e', 's', 't', 'r', 'e', 'a', 'm', 'd', 'a', 't', 'a', 'c', 'o', 'm', 'i', 'n', 'g', 'n', 'e', 't', 'w', 'o', 'r', 'k', 'u', 'n', 'd', 'e', 'r', 'g', 'o', 'e', 's', 'p', 'r', 'o', 'c', 'e', 's', 's', 'i', 'n', 'g', 'p', 'a', 'i', 'n', 't', 'e', 'd', 't', 'e', 'x', 't', 'u', 'r', 'e', 'o', 'n', 'e', 'r', 'o', 'w', 't', 'i', 'm', 'e', 'd', 'a', 't', 'a', 'p', 'r', 'e', 's', 'e', 'n', 't', 'e', 'd', 'v', 'i', 's', 'u', 'a', 'l', 'l', 'y', 'e', 'n', 'd', 'l', 'e', 's', 's', 's', 'c', 'r', 'o', 'l', 'l', 'p', 'p', 'w', 'o', 'u', 'l', 'd', 'b', 'e', 't', 't', 'e', 'r', 'p', 'a', 'i', 'n', 't', 'i', 'n', 'g', 'o', 'n', 'e', 't', 'e', 'x', 't', 'u', 'r', 'e', 'r', 'e', 'n', 'd', 'e', 'r', 'e', 'd', 'o', 'n', 'e', 'l', 'a', 'r', 'g', 'e', 'r', 'e', 'c', 't', 'a', 'n', 'g', 'l', 'e', 's', 'c', 'r', 'o', 'l', 'l', 'i', 'n', 'g', 'p', 'a', 'i', 'n', 't', 'e', 'd', 'd', 'a', 't', 'a', 'v', 'i', 'e', 'w', 'i', 'd', 'e', 'a', 'w', 'o', 'u', 'l', 'd', 'o', 'n', 'e', 't', 'w', 'o', 't', 'e', 'x', 't', 'u', 'r', 'e', 's', 'b', 'o', 'u', 'n', 'd', 'g', 'i', 'v', 'e', 'n', 't', 'i', 'm', 'e', 'c', 'o', 'n', 't', 'i', 'n', 'u', 'e', 'p', 'a', 'i', 'n', 't', 'p', 'p', 'p', 'a', 'i', 'n', 't', 'l', 'o', 't', 's', 'l', 'i', 't', 't', 'l', 'e', 'r', 'e', 'c', 't', 'a', 'n', 'g', 'l', 'e', 's', 'r', 'e', 'v', 'e', 'a', 'l', 'i', 'n', 'g', 'r', 'e', 'c', 't', 'a', 'n', 'g', 'l', 'e', 'p', 'a', 'i', 'n', 't', 'i', 'n', 'g', 'd', 'o', 'n', 'e', 'a', 's', 's', 'u', 'm', 'e', 'w', 'o', 'u', 'l', 'd', 'b', 'i', 'n', 'd', 'o', 'n', 'e', 't', 'e', 'x', 't', 'u', 'r', 'e', 'p', 'e', 'r', 'r', 'e', 'c', 't', 'a', 'n', 'g', 'l', 'e', 'p']\n",
      "107\n"
     ]
    }
   ],
   "source": [
    "tokens = dfmini['body']\n",
    "\n",
    "vocabulary = set()\n",
    "type(tokens)\n",
    "print(tokens[1]) # example of a message body.\n",
    "\n",
    "\n",
    "for items in tokens:\n",
    "    for word in items:\n",
    "        vocabulary.add(word)\n",
    "    \n",
    "print(len(vocabulary)) # We have this many words."
   ]
  },
  {
   "cell_type": "markdown",
   "metadata": {},
   "source": [
    "## TF-IDF"
   ]
  },
  {
   "cell_type": "code",
   "execution_count": 215,
   "metadata": {},
   "outputs": [],
   "source": [
    "from sklearn.feature_extraction.text import TfidfVectorizer\n",
    "\n",
    "questions = posts[pd.to_numeric(posts['PostTypeId']) == 1]['Body']\n",
    "answers = posts[pd.to_numeric(posts['PostTypeId']) == 2]['Body']\n",
    "\n",
    "data = list(set(questions))\n",
    "for idx in range(len(data)):\n",
    "    data[idx] = removePunctuation(removeHTML(removeURLs(removeTags(data[idx]))))\n",
    "\n",
    "tfid_vectorizer = TfidfVectorizer()\n",
    "tfid_vectorizer.fit_transform(data)\n",
    "feature_names = tfid_vectorizer.get_feature_names()"
   ]
  },
  {
   "cell_type": "markdown",
   "metadata": {},
   "source": [
    "### Clean the data"
   ]
  },
  {
   "cell_type": "code",
   "execution_count": 243,
   "metadata": {},
   "outputs": [],
   "source": [
    "snowball = EnglishStemmer()\n",
    "number_pattern = re.compile(r'[0-9]*')\n",
    "\n",
    "statistics = {}\n",
    "for name in feature_names:\n",
    "    feature = str(snowball.stem(re.sub(number_pattern, '', name)))\n",
    "    if len(feature) < 4: continue\n",
    "    if feature not in statistics.keys():\n",
    "        statistics[feature] = 1\n",
    "    else:\n",
    "        statistics[feature] += 1\n",
    "\n",
    "result = sorted(statistics.items(), key=operator.itemgetter(1))\n",
    "\n",
    "import pickle\n",
    "\n",
    "with open(\"result.pickle\", \"wb\") as f:\n",
    "    pickle.dump(result, f, pickle.HIGHEST_PROTOCOL)\n"
   ]
  },
  {
   "cell_type": "code",
   "execution_count": 237,
   "metadata": {},
   "outputs": [
    {
     "name": "stdout",
     "output_type": "stream",
     "text": [
      "float\n",
      "vector\n",
      "projm\n",
      "normal\n",
      "reflectionmatm\n",
      "project\n",
      "matrixn\n",
      "buildmeappendmatm\n",
      "glmvec\n",
      "color\n"
     ]
    }
   ],
   "source": [
    "# The top 10 duplicates\n",
    "for value in result[-10:][::-1]:\n",
    "    print(value[0])"
   ]
  },
  {
   "cell_type": "markdown",
   "metadata": {},
   "source": [
    "## Data Visualization"
   ]
  },
  {
   "cell_type": "code",
   "execution_count": 220,
   "metadata": {},
   "outputs": [],
   "source": [
    "from PIL import Image\n",
    "from wordcloud import WordCloud, STOPWORDS, ImageColorGenerator\n",
    "import matplotlib.pyplot as plt"
   ]
  },
  {
   "cell_type": "code",
   "execution_count": 232,
   "metadata": {},
   "outputs": [],
   "source": [
    "def convert_to_wordcloud(text):\n",
    "    ''' Convert text to wordcloud '''\n",
    "    wordcloud = WordCloud(max_words=100, background_color=\"white\").generate(text)\n",
    "    plt.imshow(wordcloud, interpolation='bilinear')\n",
    "    plt.axis(\"off\")\n",
    "    plt.show()"
   ]
  },
  {
   "cell_type": "code",
   "execution_count": 235,
   "metadata": {},
   "outputs": [
    {
     "data": {
      "image/png": "[encoded data removed]",
      "text/plain": [
       "<Figure size 432x288 with 1 Axes>"
      ]
     },
     "metadata": {
      "needs_background": "light"
     },
     "output_type": "display_data"
    }
   ],
   "source": [
    "top_10 = \" \".join(list(map(lambda x: x[0], result[-10:])))\n",
    "convert_to_wordcloud(top_10)"
   ]
  },
  {
   "cell_type": "code",
   "execution_count": null,
   "metadata": {},
   "outputs": [],
   "source": []
  }
 ],
 "metadata": {
  "kernelspec": {
   "display_name": "Python 3",
   "language": "python",
   "name": "python3"
  },
  "language_info": {
   "codemirror_mode": {
    "name": "ipython",
    "version": 3
   },
   "file_extension": ".py",
   "mimetype": "text/x-python",
   "name": "python",
   "nbconvert_exporter": "python",
   "pygments_lexer": "ipython3",
   "version": "3.7.3"
  }
 },
 "nbformat": 4,
 "nbformat_minor": 2
}
